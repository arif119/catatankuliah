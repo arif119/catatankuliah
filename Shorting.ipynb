{
 "cells": [
  {
   "cell_type": "markdown",
   "metadata": {},
   "source": [
    "Shorting"
   ]
  },
  {
   "cell_type": "markdown",
   "metadata": {},
   "source": [
    "Shorting adalah metode yang digunakan untuk mengurutkan suatu data"
   ]
  },
  {
   "cell_type": "markdown",
   "metadata": {},
   "source": [
    "Shorting terbagi menjadi 6: 1. Buble Short, 2. Selection Short, 3. Insertsen Short, 4. Quick Sort, 5. Merge Short, 6. Shell sort."
   ]
  },
  {
   "cell_type": "markdown",
   "metadata": {},
   "source": [
    "1. Buble Short"
   ]
  },
  {
   "cell_type": "markdown",
   "metadata": {},
   "source": [
    "Buble short merupakan shorting yang paling mudah tetapi yang paling buruk, karena butuh iterasi banyak, dia membandingkan angka pertama dengan sesudahnya dari awal sampai akhir, kita juga bisa membuat dengan urutan naik atau turun, dalam python kita bisa langsung menukar tempat, membuat lebih simpel dengan cara swap "
   ]
  },
  {
   "cell_type": "code",
   "execution_count": 14,
   "metadata": {},
   "outputs": [
    {
     "name": "stdout",
     "output_type": "stream",
     "text": [
      "[6, 3, 8, 1, 2]\n",
      "[1, 2, 3, 6, 8]\n",
      "iterasi= 17\n"
     ]
    }
   ],
   "source": [
    "data= [6,3,8,1,2]\n",
    "print(data)\n",
    "iterasi = 1\n",
    "for i in range (0,len(data)-1,1):\n",
    "    for j in range (0,len(data)-1,1):\n",
    "        iterasi+=1\n",
    "        if data[j]>data[j+1]:\n",
    "            a=data[j]\n",
    "            data[j]=data[j+1]\n",
    "            data[j+1]=a\n",
    "print(data)\n",
    "print (\"iterasi=\",iterasi)\n"
   ]
  },
  {
   "cell_type": "code",
   "execution_count": 8,
   "metadata": {},
   "outputs": [
    {
     "name": "stdout",
     "output_type": "stream",
     "text": [
      "[3, 6, 8, 1, 2]\n",
      "[1, 2, 3, 6, 8]\n"
     ]
    }
   ],
   "source": [
    "data= [3,6,8,1,2]\n",
    "print(data)\n",
    "for i in range (0,len(data)-1,1):\n",
    "    for j in range (0,len(data)-1,1):\n",
    "        if data[j]>data[j+1]:\n",
    "            data[j],data[j+1]=data[j+1],data[j]\n",
    "print(data)\n"
   ]
  },
  {
   "cell_type": "code",
   "execution_count": 16,
   "metadata": {},
   "outputs": [
    {
     "name": "stdout",
     "output_type": "stream",
     "text": [
      "[6, 3, 8, 2, 1]\n",
      "[8, 6, 3, 2, 1]\n",
      "iterasi= 17\n"
     ]
    }
   ],
   "source": [
    "data= [6,3,8,2,1]\n",
    "print(data)\n",
    "iterasi = 1\n",
    "for i in range (0,len(data)-1,1):\n",
    "    for j in range (0,len(data)-1,1):\n",
    "        iterasi+=1\n",
    "        if data[j]<data[j+1]:\n",
    "            data[j+1],data[j]=data[j],data[j+1]\n",
    "print(data)\n",
    "print (\"iterasi=\",iterasi)\n"
   ]
  },
  {
   "cell_type": "markdown",
   "metadata": {},
   "source": [
    "2. SELECTION SHORT"
   ]
  },
  {
   "cell_type": "markdown",
   "metadata": {},
   "source": [
    "Merupakan Modifikasi dari Buble Short, cuman perbedaan terletak di penukarannya saja"
   ]
  },
  {
   "cell_type": "code",
   "execution_count": 33,
   "metadata": {},
   "outputs": [
    {
     "name": "stdout",
     "output_type": "stream",
     "text": [
      "[6, 3, 8, 2, 1]\n",
      "[6, 3, 8, 2, 6]\n",
      "[6, 3, 8, 2, 3]\n",
      "[6, 3, 8, 2, 8]\n",
      "[6, 3, 8, 8, 8]\n",
      "iterasi= 11\n"
     ]
    }
   ],
   "source": [
    "#1 Min =>belakang\n",
    "data= [6,3,8,2,1]\n",
    "print(data)\n",
    "iterasi = 1\n",
    "for j in range (0,len(data)-1,1):\n",
    "    for i in range (j+1,len(data),1):\n",
    "        iterasi+=1\n",
    "        if data[j]>data[i]:\n",
    "            a=data[j]\n",
    "    data[j],data[i]=a,a\n",
    "    print(data)\n",
    "print (\"iterasi=\",iterasi)\n"
   ]
  },
  {
   "cell_type": "code",
   "execution_count": 25,
   "metadata": {},
   "outputs": [
    {
     "name": "stdout",
     "output_type": "stream",
     "text": [
      "[6, 3, 8, 2, 1]\n",
      "[8, 6, 3, 2, 1]\n",
      "iterasi= 11\n"
     ]
    }
   ],
   "source": [
    "#2 Max =>Depan\n",
    "data= [6,3,8,2,1]\n",
    "print(data)\n",
    "iterasi = 1\n",
    "for j in range (0,len(data)-1,1):\n",
    "    for i in range (j+1,len(data),1):\n",
    "        iterasi+=1\n",
    "        if data[j]<data[i]:\n",
    "            data[j],data[i]=data[i],data[j]\n",
    "print(data)\n",
    "print (\"iterasi=\",iterasi)"
   ]
  },
  {
   "cell_type": "code",
   "execution_count": 30,
   "metadata": {},
   "outputs": [
    {
     "name": "stdout",
     "output_type": "stream",
     "text": [
      "[6, 3, 8, 2, 1]\n",
      "[6, 3, 8, 2, 1]\n",
      "iterasi= 1\n"
     ]
    }
   ],
   "source": [
    "#3 Max =>belakang\n",
    "data= [6,3,8,2,1]\n",
    "print(data)\n",
    "iterasi = 1\n",
    "for j in range (len(data)-1,0,1):\n",
    "    for i in range (len(data),j-1,1):\n",
    "        iterasi+=1\n",
    "        if data[j]<data[i]:\n",
    "            data[j],data[i]=data[i],data[j]\n",
    "print(data)\n",
    "print (\"iterasi=\",iterasi)"
   ]
  },
  {
   "cell_type": "markdown",
   "metadata": {},
   "source": [
    "3. INSERTION SORT"
   ]
  },
  {
   "cell_type": "markdown",
   "metadata": {},
   "source": [
    "jadi nanti akan dibandingkan dengan sebelumnya sebelumnya, jika ada yang lebih kecil atau tidak sesuai urutan  baru nanti akan ditukar tempatnya"
   ]
  },
  {
   "cell_type": "code",
   "execution_count": 8,
   "metadata": {},
   "outputs": [
    {
     "name": "stdout",
     "output_type": "stream",
     "text": [
      "data awal [9, 8, 2, 4, 6, 7, 3, 1]\n",
      "[8, 9, 2, 4, 6, 7, 3, 1]\n",
      "[2, 8, 9, 4, 6, 7, 3, 1]\n",
      "[2, 4, 8, 9, 6, 7, 3, 1]\n",
      "[2, 4, 6, 8, 9, 7, 3, 1]\n",
      "[2, 4, 6, 7, 8, 9, 3, 1]\n",
      "[2, 3, 4, 6, 7, 8, 9, 1]\n",
      "[1, 2, 3, 4, 6, 7, 8, 9]\n"
     ]
    }
   ],
   "source": [
    "#Insertion sort\n",
    "data=[9,8,2,4,6,7,3,1]\n",
    "print(\"data awal\", data)\n",
    "for i in range(1,len(data)):\n",
    "    value = data[i]\n",
    "    hole = i\n",
    "    while hole >0 and data[hole-1]>value:\n",
    "        data[hole]=data[hole-1]\n",
    "        hole = hole-1\n",
    "    data[hole]=value\n",
    "    print(data)"
   ]
  },
  {
   "cell_type": "markdown",
   "metadata": {},
   "source": [
    "4. Quick Short"
   ]
  },
  {
   "cell_type": "markdown",
   "metadata": {},
   "source": [
    "Quick sort adalah metode dengan cara membagi dua aray, dengan begitu pengurutan akan menjadi efektife"
   ]
  },
  {
   "cell_type": "code",
   "execution_count": 4,
   "metadata": {},
   "outputs": [
    {
     "name": "stdout",
     "output_type": "stream",
     "text": [
      "[17, 20, 26, 31, 44, 54, 55, 77, 93]\n"
     ]
    }
   ],
   "source": [
    "#Quick Sort\n",
    "def QuickSort(A,start,end):\n",
    "    if start<end:\n",
    "        pindex=partition(A,start,end)\n",
    "        QuickSort(A,start,pindex-1)\n",
    "        QuickSort(A,pindex+1,end)\n",
    "\n",
    "def partition(A,start,end):\n",
    "    pivot = A[end]\n",
    "    pindex = start\n",
    "    for i in range(start,end):\n",
    "        if (A[i] <= pivot):\n",
    "            A[i],A[pindex]=A[pindex],A[i]\n",
    "            pindex += 1\n",
    "    A[pindex],A[end] = A[end],A[pindex]\n",
    "    return pindex\n",
    "\n",
    "A = [54,26,93,17,77,31,44,55,20]\n",
    "QuickSort(A,0,len(A)-1)\n",
    "print(A)\n"
   ]
  },
  {
   "cell_type": "code",
   "execution_count": 15,
   "metadata": {},
   "outputs": [
    {
     "name": "stdout",
     "output_type": "stream",
     "text": [
      "[20, 17, 26, 54, 55, 31, 44, 77, 93]\n"
     ]
    }
   ],
   "source": [
    "#Pivot di tengah X\n",
    "def quickSort(alist):\n",
    "  print('Dengan Quick Sort')\n",
    "  quickSortHelper(alist,0,len(alist)-1)\n",
    "def quickSortHelper(alist,start,end):\n",
    "  if start >= end:\n",
    "    return\n",
    "  i,j = start, end\n",
    "  pivot = (start + (end - start)//2)\n",
    "  while i<=j:\n",
    "    while(alist[i] < alist[pivot]):\n",
    "      i+=1\n",
    "    while(alist[j] > alist[pivot]):\n",
    "      j-=1\n",
    "    if(i<=j):\n",
    "      alist[i],alist[j] = alist[j],alist[i]\n",
    "      i+=1\n",
    "      j-=1\n",
    "  quickSortHelper(alist,start,j)\n",
    "  quickSortHelper(alist,i,end)\n",
    "  return alist\n",
    "\n",
    "alist = [54,26,93,17,77,31,44,55,20]\n",
    "\n",
    "quickSort(alist)\n",
    "\n",
    "print(alist)"
   ]
  },
  {
   "cell_type": "code",
   "execution_count": 6,
   "metadata": {},
   "outputs": [
    {
     "name": "stdout",
     "output_type": "stream",
     "text": [
      "[17, 20, 26, 31, 44, 54, 55, 77, 93]\n"
     ]
    }
   ],
   "source": [
    "#dari kiri\n",
    "def QuickSort(A,start,end):\n",
    "    if start<end:\n",
    "        pindex=partition(A,start,end)\n",
    "        QuickSort(A,start,pindex-1)\n",
    "        QuickSort(A,pindex+1,end)\n",
    "\n",
    "def partition(A,start,end):\n",
    "    pivot = A[start]\n",
    "    pindex = end\n",
    "    for i in range(end,start,-1):\n",
    "        if (A[i] >= pivot):\n",
    "            A[i],A[pindex]=A[pindex],A[i]\n",
    "            pindex -= 1\n",
    "    A[pindex],A[start] = A[start],A[pindex]\n",
    "    return pindex\n",
    "\n",
    "A = [54,26,93,17,77,31,44,55,20]\n",
    "QuickSort(A,0,len(A)-1)\n",
    "print(A)\n"
   ]
  },
  {
   "cell_type": "markdown",
   "metadata": {},
   "source": [
    "5. Merge sort"
   ]
  },
  {
   "cell_type": "markdown",
   "metadata": {},
   "source": [
    "adalah metode dengan cara dibagi 2, dibagi dua dengan menggunakan rekursif.\n",
    "setelah dibagi 2, gabungkan satu per satu sesuai urutannya"
   ]
  },
  {
   "cell_type": "code",
   "execution_count": 4,
   "metadata": {},
   "outputs": [
    {
     "name": "stdout",
     "output_type": "stream",
     "text": [
      "Splitting  [54, 26, 93, 17, 77, 31, 44, 55, 20]\n",
      "Splitting  [54, 26, 93, 17]\n",
      "Splitting  [54, 26]\n",
      "Splitting  [54]\n",
      "Merging  [54]\n",
      "Splitting  [26]\n",
      "Merging  [26]\n",
      "Merging  [26, 54]\n",
      "Splitting  [93, 17]\n",
      "Splitting  [93]\n",
      "Merging  [93]\n",
      "Splitting  [17]\n",
      "Merging  [17]\n",
      "Merging  [17, 93]\n",
      "Merging  [17, 26, 54, 93]\n",
      "Splitting  [77, 31, 44, 55, 20]\n",
      "Splitting  [77, 31]\n",
      "Splitting  [77]\n",
      "Merging  [77]\n",
      "Splitting  [31]\n",
      "Merging  [31]\n",
      "Merging  [31, 77]\n",
      "Splitting  [44, 55, 20]\n",
      "Splitting  [44]\n",
      "Merging  [44]\n",
      "Splitting  [55, 20]\n",
      "Splitting  [55]\n",
      "Merging  [55]\n",
      "Splitting  [20]\n",
      "Merging  [20]\n",
      "Merging  [20, 55]\n",
      "Merging  [20, 44, 55]\n",
      "Merging  [20, 31, 44, 55, 77]\n",
      "Merging  [17, 20, 26, 31, 44, 54, 55, 77, 93]\n"
     ]
    }
   ],
   "source": [
    "def mergeSort(alist):\n",
    "    print(\"Splitting \",alist)\n",
    "    if len(alist)>1:\n",
    "        mid = len(alist)//2\n",
    "        lefthalf = alist[:mid]\n",
    "        righthalf = alist[mid:]\n",
    "\n",
    "        mergeSort(lefthalf)\n",
    "        mergeSort(righthalf)\n",
    "\n",
    "        i=0\n",
    "        j=0\n",
    "        k=0\n",
    "        while i < len(lefthalf) and j < len(righthalf):\n",
    "            if lefthalf[i] < righthalf[j]:\n",
    "                alist[k]=lefthalf[i]\n",
    "                i=i+1\n",
    "            else:\n",
    "                alist[k]=righthalf[j]\n",
    "                j=j+1\n",
    "            k=k+1\n",
    "\n",
    "        while i < len(lefthalf):\n",
    "            alist[k]=lefthalf[i]\n",
    "            i=i+1\n",
    "            k=k+1\n",
    "\n",
    "        while j < len(righthalf):\n",
    "            alist[k]=righthalf[j]\n",
    "            j=j+1\n",
    "            k=k+1\n",
    "    print(\"Merging \",alist)\n",
    "\n",
    "alist = [54,26,93,17,77,31,44,55,20]\n",
    "mergeSort(alist)"
   ]
  },
  {
   "cell_type": "markdown",
   "metadata": {},
   "source": [
    "6. SHELL SORT"
   ]
  },
  {
   "cell_type": "markdown",
   "metadata": {},
   "source": [
    "Sesui dengan gap, gap adalah panjang data dibagi 2,"
   ]
  },
  {
   "cell_type": "code",
   "execution_count": 7,
   "metadata": {},
   "outputs": [
    {
     "name": "stdout",
     "output_type": "stream",
     "text": [
      "4\n",
      "4\n",
      "4\n",
      "4\n",
      "After increments of size 4 The list is [20, 26, 44, 17, 54, 31, 93, 55, 77]\n",
      "2\n",
      "2\n",
      "After increments of size 2 The list is [20, 17, 44, 26, 54, 31, 77, 55, 93]\n",
      "1\n",
      "After increments of size 1 The list is [17, 20, 26, 31, 44, 54, 55, 77, 93]\n",
      "[17, 20, 26, 31, 44, 54, 55, 77, 93]\n"
     ]
    }
   ],
   "source": [
    "def shellSort(alist):\n",
    "    sublistcount = len(alist)//2\n",
    "    while sublistcount > 0:\n",
    "\n",
    "      for startposition in range(sublistcount):\n",
    "        print(sublistcount)\n",
    "        gapInsertionSort(alist,startposition,sublistcount)\n",
    "\n",
    "      print(\"After increments of size\",sublistcount,\n",
    "                                   \"The list is\",alist)\n",
    "\n",
    "      sublistcount = sublistcount // 2\n",
    "\n",
    "def gapInsertionSort(alist,start,gap):\n",
    "    for i in range(start+gap,len(alist),gap):\n",
    "\n",
    "        currentvalue = alist[i]\n",
    "        position = i\n",
    "\n",
    "        while position>=gap and alist[position-gap]>currentvalue:\n",
    "            alist[position]=alist[position-gap]\n",
    "            position = position-gap\n",
    "\n",
    "        alist[position]=currentvalue\n",
    "\n",
    "alist = [54,26,93,17,77,31,44,55,20]\n",
    "shellSort(alist)\n",
    "print(alist)\n"
   ]
  }
 ],
 "metadata": {
  "kernelspec": {
   "display_name": "Python 3",
   "language": "python",
   "name": "python3"
  },
  "language_info": {
   "codemirror_mode": {
    "name": "ipython",
    "version": 3
   },
   "file_extension": ".py",
   "mimetype": "text/x-python",
   "name": "python",
   "nbconvert_exporter": "python",
   "pygments_lexer": "ipython3",
   "version": "3.7.1"
  }
 },
 "nbformat": 4,
 "nbformat_minor": 2
}

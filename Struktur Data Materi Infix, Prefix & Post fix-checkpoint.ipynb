{
 "cells": [
  {
   "cell_type": "markdown",
   "metadata": {},
   "source": [
    "INFIX, PREFIX & Post FIX"
   ]
  },
  {
   "cell_type": "markdown",
   "metadata": {},
   "source": [
    "Dalam struktur data yang kita pelajari secara umum ada 3 notasi operasi yang dilakukan untuk suatu operasi aritmatika,yaitu Prefix,Infix,dan postfix.Dan untuk mengetahui notasi-notasi yang diatas itu,sebelumnya kita harus mengenal dan mengetahui indikator yang ada di notasi itu tersebut.\n",
    "\n",
    "Notasi ini terbentuk dari Operand dan Operator.\n",
    "Operand adalah data atau nilai yang membantu dalam proses,sedangkan Operasi adalah fungsi yang digunakan dalam proses.\n",
    "\n",
    "Notasi ada 3 jenis, yaitu Prefix,Infix dan Postfix yang seperti kita ketahui di atas:"
   ]
  },
  {
   "cell_type": "markdown",
   "metadata": {},
   "source": [
    "1. PREFIX\n",
    "\n",
    "Prefix adalah notasi yang terbentuk atas operator dengan operand, dimana oprator didepan operand.\n",
    "\n",
    " contoh: A + B * C (infix).\n",
    " \n",
    " maka notasi prefixnya adalah: +A*BC.\n",
    "\n",
    " Pemecahannya:\n",
    "\n",
    "   A+B*C\n",
    "\n",
    "  Diketahui ada 3 operand yaitu: A, B, C dan 2 operand yaitu: +, *.proses dimulai dengan melihat dari hirarkhi oprator.Contoh diatas operator yang tertinggi adalah * kemudian +. Tanda * diapit oleh 2 operand yaitu B*C, prefixnya dengan menggabungkan operand dan memindahkan operator ke depan dari operand,sehingga fungsi B*C, notasi prefixnya menjadi *BC.\n",
    "\n",
    "Sehingga hasil sementara dari notasi prefix adalah:\n",
    "\n",
    "   A+*BC\n",
    "\n",
    "  Selanjutnya mencari prefix untuk operator yang berikutnya yaitu  +, cara yang dilakukan sama seperti diatas, operator + diapit oleh operand, yaitu A dan *BC, gabungkan operand,sehingga menjadi A*BC,lalu pindahkan operator kedepan operand,sehingga hasil akhir menjadi :\n",
    "  \n",
    "  +A*BC.\n"
   ]
  },
  {
   "cell_type": "markdown",
   "metadata": {},
   "source": [
    "2. INFIX\n",
    "\n",
    "Infix adalah notasi yang membentuk atas operator dengan operand,dimana operator berada diantara operand.\n",
    "\n",
    " Contoh :\n",
    " \n",
    "      - A + B * C\n",
    "      \n",
    "      - (A + B) * C\n",
    "      \n",
    "      - A - (B + C) * D"
   ]
  },
  {
   "cell_type": "markdown",
   "metadata": {},
   "source": [
    "3. POST FIX\n",
    "\n",
    "Postfix adalah notasi yang membentuk atas operator dengan operand, dimana operator berada dibelakang operand.\n",
    "\n",
    " Contoh : A + B * C ( infix).\n",
    " \n",
    "maka notasi postfix adalah ABC*+.\n",
    "\n",
    "Pemecahannya:\n",
    "\n",
    "      A + B * C\n",
    "\n",
    "   Diketahui ada 3 operand yaitu : A,B,C dan 2 operator yaitu : +, *. proses dimulai dengan melihat dari hirarkhi operator.Contoh diatas operator yang tertinggi adalah * kemudian +.\n",
    "\n",
    "Tanda * diapit oleh kedua operand yaitu B dan C yaitu B*C, postfix dengan menggabungkan operand B dan C menjadi BC,lalu memindahkan operator ke belakang operand C, sehingga fungsi B*C, notasi postfixnya menjadi BC*.Sehingga hasil sementara dari notasi postfix adalah A + BC*\n",
    "\n",
    "  Selanjutnya mencari postfix untuk operator yang berikutnya, yaitu +, dengan cara yang dilakukan sama seperti di atas, operator + diapit oleh 2 operand, yaitu : A dan BC* gabungkan operand tersebut,sehingga menjadi ABC*,lalu pindahkan operator + kebelakang operand ABC*.\n",
    "  \n",
    "Sehingga hasil akhir  menjadi :   ABC*+.\n",
    "\n",
    "berikut implementasi dari postfix ke infix:"
   ]
  },
  {
   "cell_type": "code",
   "execution_count": 2,
   "metadata": {},
   "outputs": [
    {
     "name": "stdout",
     "output_type": "stream",
     "text": [
      "Postfix =  51+28+*\n",
      "Proses =  ['5']\n",
      "Proses =  ['5', '1']\n",
      "Proses =  ['5+1']\n",
      "Proses =  ['5+1', '2']\n",
      "Proses =  ['5+1', '2', '8']\n",
      "Proses =  ['5+1', '2+8']\n",
      "Proses =  ['(5+1)*2+8']\n",
      "Infix =  (5+1)*2+8\n"
     ]
    }
   ],
   "source": [
    "class Stack:\n",
    "    def __init__(self):\n",
    "        self.items = []\n",
    "    def isEmpty(self):\n",
    "        return self.items == []\n",
    "    def push(self, item):\n",
    "        self.items.append(item)\n",
    "    def pop(self):\n",
    "        return self.items.pop()\n",
    "    def peek(self):\n",
    "        return self.items[len(self.items)-1]\n",
    "    def size(self):\n",
    "        return len(self.items)\n",
    "    def showList(self):\n",
    "        return self.items\n",
    "\n",
    "def PostToIn(soal):\n",
    "    mylist = []\n",
    "    stackSaya=Stack()\n",
    "    operasiPrev = None\n",
    "    \n",
    "    for karakter in soal:\n",
    "        if karakter not in (operasi):\n",
    "            mylist.append(karakter)\n",
    "            stackSaya.push(karakter)\n",
    "            \n",
    "        else:\n",
    "            pop1 = stackSaya.pop()\n",
    "            pop2 = stackSaya.pop()\n",
    "            if operasiPrev and len(pop2) > 1 and prioritasOP[karakter] > prioritasOP[operasiPrev]:\n",
    "                temp = '('+pop2+')' + karakter + pop1\n",
    "                stackSaya.push(temp)\n",
    "                \n",
    "            else:\n",
    "                temp = pop2 + karakter + pop1\n",
    "                stackSaya.push(temp)\n",
    "            mylist.append(temp)\n",
    "            operasiPrev = karakter\n",
    "            \n",
    "        print(\"Proses = \",stackSaya.showList())\n",
    "        \n",
    "    return mylist[-1]\n",
    "\n",
    "operasi = ['+', '-', '*', '/', '(', ')']\n",
    "prioritasOP = {'+':1, '-':1, '*':2, '/':2}\n",
    "\n",
    "postfix1='51+28+*'\n",
    "print(\"Postfix = \",postfix1)\n",
    "print(\"Infix = \",PostToIn(postfix1))\n"
   ]
  },
  {
   "cell_type": "code",
   "execution_count": null,
   "metadata": {},
   "outputs": [],
   "source": []
  }
 ],
 "metadata": {
  "kernelspec": {
   "display_name": "Python 3",
   "language": "python",
   "name": "python3"
  },
  "language_info": {
   "codemirror_mode": {
    "name": "ipython",
    "version": 3
   },
   "file_extension": ".py",
   "mimetype": "text/x-python",
   "name": "python",
   "nbconvert_exporter": "python",
   "pygments_lexer": "ipython3",
   "version": "3.7.1"
  }
 },
 "nbformat": 4,
 "nbformat_minor": 2
}

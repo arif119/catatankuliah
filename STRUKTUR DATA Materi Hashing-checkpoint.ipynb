{
 "cells": [
  {
   "cell_type": "markdown",
   "metadata": {},
   "source": [
    "                                                    HASHING\n",
    "    Hashing adalah teknik atau metode memetakan data ke sebuah tempat dimana data sebenarnya dirubah dalam bentuk lain. semisal huruf a menjadi huruf e. Teknik ini biasanya digunakan untuk mengenkrispsi sebuah password didalam database seperti MySQL. \n",
    "    Pada python, cara metode Hashing dengan membuat sebuah List yang akan diisi oleh data masukan. Data masukan diberi 2 buah nilai yaitu value sebagai data tersebut dan juga key sebagai alat untuk memasukan value ke List.\n",
    "    Algoritma Hashing sebagai berikut :\n",
    "1. Membuat tabel hash yang berisikan None\n",
    "2. Memasukan data yang ingin dimasukan \n",
    "3. Data masukan terdiri dari value dan keynya\n",
    "4. Lakukan pencarian modulus dari key yang dibagi panjang tabel hash\n",
    "5. Masukan value dari data tersebut ke dalam tabel hash sesuai indexnya\n",
    "\n",
    "Permasalahan yang terjadi pada hashing adalah apabila pada index yang terjadi banyak value, inilah yang disebut Collision. Cara mengatasinya ada tiga yang sudah saya pelajari, yaitu linear hashing, aquadratic hashing dan chainning.\n",
    "\n",
    "\n",
    "Berikut ini penjelasan dari penyelesaian diatas :\n",
    "1. Linear Hashing\n",
    "Penyelesaian dengan linear yaitu melakukan penambahan 1 tiap index yang terjadi collision, misalnya, collison terjadi pada index 3, maka data selanjutnya yang berindex 3 akan ditambahkan ke index 4, jika index 4 sudah terdapat value atau isi maka data terdebut ditaruh di index 5.\n",
    "\n",
    "2. Aquadratic Hashing\n",
    "Penyelesaian dengan Quadratic/Aquadratic ini sama seperti linear akan tetapi penambahan tidak satu persatu, melainkan penambahnya di kuadratkan lalu dimodulus dengan panjang tabel hash. misal jika ada suatu collusion di index ke-2 makan index ke-2 itu di kuadratkan 2 sehingga di menjadi index ke-4 jika nanti index ke-4 sudah ada value/isi maka akan di kuadratkan lagi, dan seterusnya.\n",
    "\n",
    "3. Chainning\n",
    "Penyelesaian dengan cara Chainning yaitu membuat list didalam tabel hash sehingga data yang berindex sama tidak terjadi collison karena data tersebut ditumpuk ke dalam sebuah list yang telah dibuat."
   ]
  },
  {
   "cell_type": "markdown",
   "metadata": {},
   "source": [
    "LINIER HASING (PROBBBING)"
   ]
  },
  {
   "cell_type": "code",
   "execution_count": 3,
   "metadata": {},
   "outputs": [
    {
     "name": "stdout",
     "output_type": "stream",
     "text": [
      "[None, None, None, None, None, None, None, None, None, None]\n",
      "[None, None, None, None, 54, None, None, None, None, None]\n",
      "[None, None, 32, None, 54, None, None, None, None, None]\n",
      "[None, None, 32, None, 54, None, 46, None, None, None]\n",
      "[None, None, 32, None, 54, None, 46, 17, None, None]\n",
      "[None, None, 32, None, 54, None, 46, 17, 77, None]\n",
      "[None, None, 32, 63, 54, None, 46, 17, 77, None]\n",
      "[None, None, 32, 63, 54, None, 46, 17, 77, 86]\n",
      "[None, None, 32, 63, 54, 55, 46, 17, 77, 86]\n",
      "[20, None, 32, 63, 54, 55, 46, 17, 77, 86]\n",
      "[20, None, 32, 63, 54, 55, 46, 17, 77, 86]\n"
     ]
    }
   ],
   "source": [
    "#linier probbing (menggunakan parameter fungsi dan bisa running di python)\n",
    "table = [None]*10\n",
    "def hash(x):\n",
    "    return x % 10\n",
    "def insert(table,key,value):\n",
    "    index = hash(key)\n",
    "    if table[index] == None:\n",
    "        table[index] = value\n",
    "    else:\n",
    "        collusion=index\n",
    "        found = False\n",
    "        ind=collusion+1\n",
    "        if ind == len(table)-1:\n",
    "            ind=0\n",
    "        while ind<=len(table)-1 and not(found):\n",
    "            if table[ind] == None:\n",
    "                found=True\n",
    "                table[ind]=value\n",
    "            ind=ind+1\n",
    "    \n",
    "print(table)\n",
    "insert(table,54,54)\n",
    "print(table)\n",
    "insert(table,32,32)\n",
    "print(table)\n",
    "insert(table,46,46)\n",
    "print(table)\n",
    "insert(table,17,17)\n",
    "print(table)\n",
    "insert(table,77,77)\n",
    "print(table)\n",
    "insert(table,63,63)\n",
    "print(table)\n",
    "insert(table,86,86)\n",
    "print(table)\n",
    "insert(table,55,55)\n",
    "print(table)\n",
    "insert(table,20,20)\n",
    "print(table)\n",
    "insert (table,25,25)\n",
    "print(table)"
   ]
  },
  {
   "cell_type": "code",
   "execution_count": null,
   "metadata": {},
   "outputs": [],
   "source": []
  },
  {
   "cell_type": "code",
   "execution_count": null,
   "metadata": {},
   "outputs": [
    {
     "name": "stdout",
     "output_type": "stream",
     "text": [
      "[None, None, None, None, None, None, None, None, None, None]\n",
      "[None, None, None, None, 54, None, None, None, None, None]\n",
      "[None, None, 32, None, 54, None, None, None, None, None]\n",
      "[None, None, 32, None, 54, None, 46, None, None, None]\n",
      "[None, None, 32, None, 54, None, 46, 17, None, None]\n",
      "[None, None, 32, None, 54, None, 46, 17, 77, None]\n",
      "[None, None, 32, 63, 54, None, 46, 17, 77, None]\n"
     ]
    }
   ],
   "source": [
    "#quadratic probbing (bisa running di python)\n",
    "\n",
    "table = [None] * 10\n",
    "def hash(x):\n",
    "    return x % 10\n",
    "def insert(table,key,value):\n",
    "    index = hash(key)\n",
    "    if table[index] == None:\n",
    "        table[index] = value\n",
    "    else:\n",
    "        collusion=index\n",
    "        found = False\n",
    "        i=1\n",
    "        ind = collusion+1\n",
    "        if ind > len(table)-1:\n",
    "            ind = 0\n",
    "        while (ind<=len(table)-1) and not(found):\n",
    "            if table[ind]== None:\n",
    "                found=True\n",
    "                table[ind]=value\n",
    "                ind = (collusion+(i**i)) % 11\n",
    "            i=i+1\n",
    "\n",
    "print(table)\n",
    "insert(table,54,54)\n",
    "print(table)\n",
    "insert(table,32,32)\n",
    "print(table)\n",
    "insert(table,46,46)\n",
    "print(table)\n",
    "insert(table,17,17)\n",
    "print(table)\n",
    "insert(table,77,77)\n",
    "print(table)\n",
    "insert(table,63,63)\n",
    "print(table)\n",
    "insert(table,86,86)\n",
    "print(table)\n",
    "insert(table,55,55)\n",
    "print(table)\n",
    "insert(table,20,20)\n",
    "print(table)\n",
    "insert (table,25,25)\n",
    "print(table)\n"
   ]
  },
  {
   "cell_type": "code",
   "execution_count": 2,
   "metadata": {},
   "outputs": [
    {
     "name": "stdout",
     "output_type": "stream",
     "text": [
      "[[], [], [], [], [], [], [], [], [], []]\n",
      "[[], [], [], [], [54], [], [], [], [], []]\n",
      "[[], [], [32], [], [54], [], [], [], [], []]\n",
      "[[], [], [32], [], [54], [], [46], [], [], []]\n",
      "[[], [], [32], [], [54], [], [46], [17], [], []]\n",
      "[[], [], [32], [], [54], [], [46], [17, 77], [], []]\n",
      "[[], [], [32], [63], [54], [], [46], [17, 77], [], []]\n",
      "[[], [], [32], [63], [54], [], [46, 86], [17, 77], [], []]\n",
      "[[], [], [32], [63], [54], [55], [46, 86], [17, 77], [], []]\n",
      "[[20], [], [32], [63], [54], [55], [46, 86], [17, 77], [], []]\n"
     ]
    }
   ],
   "source": [
    "#chaining atau close address (running di python)\n",
    "\n",
    "table = [ [] for _ in range(10)]\n",
    "def hash(x):\n",
    "    return x % 10\n",
    "def insert(table,key,value):\n",
    "    table[hash(key)].append(value)\n",
    "    index = hash(key)\n",
    "    if table[index]== None:\n",
    "        table[index] = value\n",
    "    else:\n",
    "        collusion=index\n",
    "        found = False\n",
    "        ind=collusion+1\n",
    "        if ind == len(table)-1:\n",
    "            ind=0\n",
    "        while ind<=len(table)-1 and not(found):\n",
    "            if table[ind] == None:\n",
    "                found=True\n",
    "                table[ind]=value\n",
    "            ind=ind+1\n",
    "        \n",
    "print(table)\n",
    "insert(table,54,54)\n",
    "print(table)\n",
    "insert(table,32,32)\n",
    "print(table)\n",
    "insert(table,46,46)\n",
    "print(table)\n",
    "insert(table,17,17)\n",
    "print(table)\n",
    "insert(table,77,77)\n",
    "print(table)\n",
    "insert(table,63,63)\n",
    "print(table)\n",
    "insert(table,86,86)\n",
    "print(table)\n",
    "insert(table,55,55)\n",
    "print(table)\n",
    "insert(table,20,20)\n",
    "print(table)"
   ]
  },
  {
   "cell_type": "code",
   "execution_count": null,
   "metadata": {},
   "outputs": [],
   "source": []
  }
 ],
 "metadata": {
  "kernelspec": {
   "display_name": "Python 3",
   "language": "python",
   "name": "python3"
  },
  "language_info": {
   "codemirror_mode": {
    "name": "ipython",
    "version": 3
   },
   "file_extension": ".py",
   "mimetype": "text/x-python",
   "name": "python",
   "nbconvert_exporter": "python",
   "pygments_lexer": "ipython3",
   "version": "3.7.1"
  }
 },
 "nbformat": 4,
 "nbformat_minor": 2
}

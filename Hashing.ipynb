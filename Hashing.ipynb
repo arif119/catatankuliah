{
 "cells": [
  {
   "cell_type": "markdown",
   "metadata": {},
   "source": [
    "Hasing"
   ]
  },
  {
   "cell_type": "markdown",
   "metadata": {},
   "source": [
    "Hashing adalah suatu metode mengubah string menjadi bilangan dan dimasukan kedalam list yang kosong atau data yang kosong, jika list tersebut telah ada maka data yang terakhir akan digeser atau dipindah ke data yang lain yang kosong"
   ]
  },
  {
   "cell_type": "markdown",
   "metadata": {},
   "source": [
    "hashing sendiri terbagi menjadi 2, "
   ]
  },
  {
   "cell_type": "markdown",
   "metadata": {},
   "source": [
    "1. Open Address,"
   ]
  },
  {
   "cell_type": "markdown",
   "metadata": {},
   "source": [
    "Open Address adalah metode yang dilakukan jika slot sudah terisi maka akan dimasukan ke slot berikutnya yang masih kosong, Open Address sendiri terbagi menjadi 2:"
   ]
  },
  {
   "cell_type": "markdown",
   "metadata": {},
   "source": [
    "    a. Linier Probing: yaitu mengisi slot secara berurutan sampai menemukan yang kosong"
   ]
  },
  {
   "cell_type": "markdown",
   "metadata": {},
   "source": [
    "    b. quadratic Probbing: yaitu sama seperti linier tetapi jika sama maka akan dikuadratkan"
   ]
  },
  {
   "cell_type": "markdown",
   "metadata": {},
   "source": [
    "2. Close Address, atau sering disebut metode Chaining, Yaitu Memngkinkan banyak item dimasukan slot yang sama"
   ]
  },
  {
   "cell_type": "code",
   "execution_count": 2,
   "metadata": {},
   "outputs": [
    {
     "name": "stdout",
     "output_type": "stream",
     "text": [
      "[None, None, None, None, None, None, None, None, None, None, None]\n",
      "[54, None, None, None, None, None, None, None, None, None, 54]\n",
      "[54, 26, None, None, 26, None, None, None, None, None, 54]\n",
      "[54, 26, 93, None, 26, 93, None, None, None, None, 54]\n",
      "[54, 26, 93, 17, 26, 93, 17, None, None, None, 54]\n",
      "[54, 26, 93, 17, 26, 93, 17, 77, None, None, 54]\n",
      "[54, 26, 93, 17, 26, 93, 17, 77, 31, 31, 54]\n",
      "[54, 26, 93, 17, 26, 93, 17, 77, 31, 31, 54]\n",
      "[54, 26, 93, 17, 26, 93, 17, 77, 31, 31, 54]\n"
     ]
    }
   ],
   "source": [
    "#Hashing_Linier Probbing\n",
    "\n",
    "tabel = [None] * 11\n",
    "\n",
    "def hash(x):\n",
    "    return x % 11\n",
    "\n",
    "def insert(tabel, key, isi):\n",
    "    index = hash(key)\n",
    "    if tabel[index]==None:\n",
    "        tabel[index] = isi\n",
    "    else :\n",
    "        ind = index\n",
    "\n",
    "        found=False\n",
    "        ind +=1\n",
    "        if ind>= len(tabel)-1:\n",
    "            ind = 0\n",
    "        while (ind <= len(tabel)-1) and not (found):\n",
    "            if tabel[ind]==None:\n",
    "                tabel[ind]=isi\n",
    "                found=True\n",
    "            ind+=1\n",
    "print(tabel)\n",
    "insert(tabel,32,32)\n",
    "print(tabel)\n",
    "insert(tabel,98,98)\n",
    "print(tabel)\n",
    "insert(tabel,12,12)\n",
    "print(tabel)\n",
    "insert(tabel,17,17)\n",
    "print(tabel)\n",
    "insert(tabel,77,77)\n",
    "print(tabel)\n",
    "insert(tabel,31,31)\n",
    "print(tabel)\n",
    "insert(tabel,44,44)\n",
    "print(tabel)\n",
    "insert(tabel,55,55)\n",
    "print(tabel)\n",
    "insert(tabel,20,20)\n",
    "print(tabel)\n",
    "insert(tabel,25,25)\n",
    "print(tabel)\n"
   ]
  },
  {
   "cell_type": "code",
   "execution_count": 2,
   "metadata": {},
   "outputs": [
    {
     "name": "stdout",
     "output_type": "stream",
     "text": [
      "[None, None, None, None, None, None, None, None, None, None, None]\n",
      "[None, None, None, None, None, None, None, None, None, None, 32]\n",
      "[98, None, None, None, None, None, None, None, None, None, 32]\n",
      "[98, 12, None, None, None, None, None, None, None, None, 32]\n",
      "[98, 12, None, None, None, None, 17, None, None, None, 32]\n",
      "[98, 12, None, None, 77, None, 17, None, None, None, 32]\n",
      "[98, 12, None, None, 77, None, 17, None, None, 31, 32]\n",
      "[98, 12, None, None, 77, 44, 17, None, None, 31, 32]\n",
      "[98, 12, None, 55, 77, 44, 17, None, None, 31, 32]\n",
      "[98, 12, 20, 55, 77, 44, 17, None, None, 31, 32]\n",
      "[98, 12, 20, 55, 77, 44, 17, 25, None, 31, 32]\n"
     ]
    }
   ],
   "source": [
    "#Hashing_Quadratic Probbing\n",
    "\n",
    "tabel = [None] * 11\n",
    "\n",
    "def hash(x):\n",
    "    return x % 11\n",
    "\n",
    "def insert(tabel,key,value):\n",
    "    index = hash(key)\n",
    "    if tabel[index] == None:\n",
    "        tabel[index] = value\n",
    "    else :\n",
    "        collusion=index\n",
    "        i=1\n",
    "        found = False\n",
    "        while i > 0 and not(found):\n",
    "            ind = collusion + i**2\n",
    "            ind = ind % 11\n",
    "            if tabel[ind]== None:\n",
    "                found=True\n",
    "                tabel[ind]=value\n",
    "            i=i+1\n",
    "            \n",
    "print(tabel)\n",
    "insert(tabel,32,32)\n",
    "print(tabel)\n",
    "insert(tabel,98,98)\n",
    "print(tabel)\n",
    "insert(tabel,12,12)\n",
    "print(tabel)\n",
    "insert(tabel,17,17)\n",
    "print(tabel)\n",
    "insert(tabel,77,77)\n",
    "print(tabel)\n",
    "insert(tabel,31,31)\n",
    "print(tabel)\n",
    "insert(tabel,44,44)\n",
    "print(tabel)\n",
    "insert(tabel,55,55)\n",
    "print(tabel)\n",
    "insert(tabel,20,20)\n",
    "print(tabel)\n",
    "insert(tabel,25,25)\n",
    "print(tabel)\n"
   ]
  },
  {
   "cell_type": "code",
   "execution_count": 1,
   "metadata": {},
   "outputs": [
    {
     "name": "stdout",
     "output_type": "stream",
     "text": [
      "[[], [], [], [], [], [], [], [], [], [], []]\n",
      "[[], [], [], [], [], [], [], [], [], [], [32]]\n",
      "[[], [], [], [], [], [], [], [], [], [], [32, 98]]\n",
      "[[], [12], [], [], [], [], [], [], [], [], [32, 98]]\n",
      "[[], [12], [], [], [], [], [17], [], [], [], [32, 98]]\n",
      "[[77], [12], [], [], [], [], [17], [], [], [], [32, 98]]\n",
      "[[77], [12], [], [], [], [], [17], [], [], [31], [32, 98]]\n",
      "[[77, 44], [12], [], [], [], [], [17], [], [], [31], [32, 98]]\n",
      "[[77, 44, 55], [12], [], [], [], [], [17], [], [], [31], [32, 98]]\n",
      "[[77, 44, 55], [12], [], [], [], [], [17], [], [], [31, 20], [32, 98]]\n",
      "[[77, 44, 55], [12], [], [25], [], [], [17], [], [], [31, 20], [32, 98]]\n"
     ]
    }
   ],
   "source": [
    "#Hashing_Close address\n",
    "\n",
    "tabel = [[] for i in range(11)]\n",
    "\n",
    "def hash(x):\n",
    "    return x % 11\n",
    "\n",
    "def insert(tabel, key, isi):\n",
    "    tabel[hash(key)].append(isi)\n",
    "    index = hash(key)\n",
    "    if tabel[index] == None:\n",
    "        tabel[index] = isi\n",
    "    else :\n",
    "        collusion = index\n",
    "        i=1\n",
    "        found=False\n",
    "        ind = collusion + 1\n",
    "        if ind>= len(tabel)-1:\n",
    "            ind = 0\n",
    "        while (ind <= len(tabel)-1) and not (found):\n",
    "            if tabel[ind]==None:\n",
    "                tabel[ind]=isi\n",
    "                found=True\n",
    "            ind+=1\n",
    "print(tabel)\n",
    "insert(tabel,32,32)\n",
    "print(tabel)\n",
    "insert(tabel,98,98)\n",
    "print(tabel)\n",
    "insert(tabel,12,12)\n",
    "print(tabel)\n",
    "insert(tabel,17,17)\n",
    "print(tabel)\n",
    "insert(tabel,77,77)\n",
    "print(tabel)\n",
    "insert(tabel,31,31)\n",
    "print(tabel)\n",
    "insert(tabel,44,44)\n",
    "print(tabel)\n",
    "insert(tabel,55,55)\n",
    "print(tabel)\n",
    "insert(tabel,20,20)\n",
    "print(tabel)\n",
    "insert(tabel,25,25)\n",
    "print(tabel)\n"
   ]
  },
  {
   "cell_type": "code",
   "execution_count": null,
   "metadata": {},
   "outputs": [],
   "source": []
  }
 ],
 "metadata": {
  "kernelspec": {
   "display_name": "Python 3",
   "language": "python",
   "name": "python3"
  },
  "language_info": {
   "codemirror_mode": {
    "name": "ipython",
    "version": 3
   },
   "file_extension": ".py",
   "mimetype": "text/x-python",
   "name": "python",
   "nbconvert_exporter": "python",
   "pygments_lexer": "ipython3",
   "version": "3.7.1"
  }
 },
 "nbformat": 4,
 "nbformat_minor": 2
}

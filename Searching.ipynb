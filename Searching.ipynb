{
 "cells": [
  {
   "cell_type": "markdown",
   "metadata": {},
   "source": [
    "Searching"
   ]
  },
  {
   "cell_type": "markdown",
   "metadata": {},
   "source": [
    "Searching terbagi menjadi 2, Linier search dan binary search"
   ]
  },
  {
   "cell_type": "markdown",
   "metadata": {},
   "source": [
    "1. Linier Search"
   ]
  },
  {
   "cell_type": "markdown",
   "metadata": {},
   "source": [
    "Linier search adalah metode menemukan data yang dilakukan satu persatu, pencarian bisa dilakukan bisa dilakukan baik data terurut ataupun tidak terurut, dia akan mengecek satu persatu sampai data ditemukan "
   ]
  },
  {
   "cell_type": "code",
   "execution_count": 5,
   "metadata": {},
   "outputs": [
    {
     "name": "stdout",
     "output_type": "stream",
     "text": [
      "Found the search number\n",
      "1\n"
     ]
    }
   ],
   "source": [
    "search = 2\n",
    "list = [1,2,3,4,5,6,7,8,9]\n",
    "position=len(list)-1\n",
    "last=0\n",
    "found = False\n",
    "while position >=last and not found:\n",
    "    if list[position]==search:\n",
    "        found = True\n",
    "    else:\n",
    "        position=position-1\n",
    "if found :\n",
    "    print(\"Found the search number\")\n",
    "    print(position)\n",
    "else:\n",
    "    print(\"did not find the search number\")"
   ]
  },
  {
   "cell_type": "markdown",
   "metadata": {},
   "source": [
    "2. Binary Search"
   ]
  },
  {
   "cell_type": "markdown",
   "metadata": {},
   "source": [
    "binari search adalah dengan membagi 2, binary harus terurut karena akan dibagi 2\n",
    "jika dia lebih kecil dari bilangan tengah, maka posisi terakhir di midle-1"
   ]
  },
  {
   "cell_type": "code",
   "execution_count": 2,
   "metadata": {},
   "outputs": [
    {
     "name": "stdout",
     "output_type": "stream",
     "text": [
      "Angka ditemukan!\n",
      "posisi angka yang ditemukan adalah 1\n",
      "Langkah yang sudah di ambil dalam menemukan adalah 3 langkah\n"
     ]
    }
   ],
   "source": [
    "def binary_search(angka,listku):\n",
    "  listku.sort() #Penyortiran List\n",
    "  langkah = 0\n",
    "  ketemu = False\n",
    "  awal = 0\n",
    "  akhir = len(listku)-1\n",
    "  while awal <= akhir and not ketemu:\n",
    "    tengah = (awal+akhir)//2\n",
    "    if listku[tengah] == angka:\n",
    "      ketemu = True\n",
    "    elif angka > tengah:\n",
    "      awal = tengah+1\n",
    "    else:\n",
    "      akhir = tengah-1\n",
    "    langkah+=1\n",
    "  if ketemu:\n",
    "    print (\"Angka ditemukan!\")\n",
    "    print (\"posisi angka yang ditemukan adalah %s\" % str(awal+1))\n",
    "  else:\n",
    "    print (\"Angka yang anda maksudkan tidak ditemukan!\")\n",
    "  print (\"Langkah yang sudah di ambil dalam menemukan adalah %s langkah\" % langkah)\n",
    "\n",
    "binary_search(0,[1,0,2,6,7,8,9,3,4])"
   ]
  },
  {
   "cell_type": "code",
   "execution_count": 17,
   "metadata": {},
   "outputs": [
    {
     "name": "stdout",
     "output_type": "stream",
     "text": [
      "Angka yang anda maksudkan tidak ditemukan!\n",
      "Langkah yang sudah di ambil dalam menemukan adalah langkah 5\n"
     ]
    }
   ],
   "source": [
    "list = [1,2,3,4,5,6,7,8,9,12,45,56,67,78,90]\n",
    "target = 12\n",
    "langkah = 1\n",
    "found = False\n",
    "awal = 0\n",
    "akhir = len(list)-1\n",
    "while awal <= akhir and not found:\n",
    "    mid = (awal+akhir)//2\n",
    "    if list[mid] == target:\n",
    "        found = True\n",
    "    elif target > mid:\n",
    "        awal = mid + 1 \n",
    "    else :\n",
    "        akhir = mid - 1\n",
    "    langkah += 1\n",
    "if found:\n",
    "    print (\"Angka ditemukan!\")\n",
    "    print (\"posisi angka yang ditemukan adalah \", langkah)\n",
    "else:\n",
    "    print (\"Angka yang anda maksudkan tidak ditemukan!\")\n",
    "    print (\"Langkah yang sudah di ambil dalam menemukan adalah langkah\", langkah)\n",
    "    "
   ]
  },
  {
   "cell_type": "code",
   "execution_count": 6,
   "metadata": {},
   "outputs": [
    {
     "name": "stdout",
     "output_type": "stream",
     "text": [
      "Angka ditemukan!\n",
      "posisi angka yang ditemukan adalah  14\n"
     ]
    }
   ],
   "source": [
    "list = [8,6,9,1,4,2,3,5,10,19,17,14,23,26,28,20,21]\n",
    "target = 23\n",
    "langkah = 1\n",
    "found = False\n",
    "awal = 0\n",
    "akhir = len(list)-1\n",
    "while awal <= akhir and not found:\n",
    "    if list[awal] == target:\n",
    "        found = True\n",
    "    else :\n",
    "        awal +=1\n",
    "    langkah += 1\n",
    "if found:\n",
    "    print (\"Angka ditemukan!\")\n",
    "    print (\"posisi angka yang ditemukan adalah \", langkah)\n",
    "else:\n",
    "    print (\"Angka yang anda maksudkan tidak ditemukan!\")\n",
    "    print (\"Langkah yang sudah di ambil dalam menemukan adalah langkah\", langkah)\n"
   ]
  }
 ],
 "metadata": {
  "kernelspec": {
   "display_name": "Python 3",
   "language": "python",
   "name": "python3"
  },
  "language_info": {
   "codemirror_mode": {
    "name": "ipython",
    "version": 3
   },
   "file_extension": ".py",
   "mimetype": "text/x-python",
   "name": "python",
   "nbconvert_exporter": "python",
   "pygments_lexer": "ipython3",
   "version": "3.7.1"
  }
 },
 "nbformat": 4,
 "nbformat_minor": 2
}

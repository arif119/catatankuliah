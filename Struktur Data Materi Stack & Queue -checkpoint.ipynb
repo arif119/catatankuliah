{
 "cells": [
  {
   "cell_type": "markdown",
   "metadata": {},
   "source": [
    "STACK & QUEUE"
   ]
  },
  {
   "cell_type": "markdown",
   "metadata": {},
   "source": [
    "STACK (Tumpukan)"
   ]
  },
  {
   "cell_type": "markdown",
   "metadata": {},
   "source": [
    "Tumpukan (stack) merupakan struktur data yang menerapkan konsep LIFO (Last In First Out) Artinya, data yang terakhir ditambahkan ke dalam stack akan berada di posisi terkahir (atau paling atas jika kita membayangkan elemen - elemen stack tersusun secara vertikal) dan ketika proses pengambilan, data terakhir tersebut akan diambil pertama kali.\n",
    "\n",
    "Pada kelas di atas, kita mengimplementasikan metode-metode berikut :\n",
    "\n",
    "1. isempty(), digunakan untuk memeriksa apakah stack kosong atau tidak.\n",
    "2. __len__(), metode ini perlu diimplementasikan agar objek dari kelas stack dapat dihitung\n",
    "    jumlah elemennya menggunakan metode len().\n",
    "3. push(), digunakan untuk menambah elemen baru ke dalam stack pada posisi terakhir.\n",
    "4. peek(), digunakan untuk mendapatkan elemen yang terdapat pada posisi terkahir tanpa\n",
    "    menghapus elemen tersebut.\n",
    "5. pop(), digunakan untuk mengambil elemen terakhir dan menghapusnya dari dalam stack.\n",
    "6. size(), mengembalikan jumlah item di dalam list. Tidak memerlukan parameter dan\n",
    "    mengembalikan suatu integer.\n",
    "    \n",
    "Berikut implementasinya ke dalam bahasa pemrograman Python :"
   ]
  },
  {
   "cell_type": "code",
   "execution_count": 2,
   "metadata": {},
   "outputs": [
    {
     "name": "stdout",
     "output_type": "stream",
     "text": [
      "empty: False\n",
      "peek: true\n",
      "pop: true\n",
      "pop: satu\n"
     ]
    }
   ],
   "source": [
    "class Stack:\n",
    "    def __init__(self):\n",
    "        self.items = []\n",
    "    def isEmpty(self):\n",
    "         return self.items == []\n",
    "    def push(self, item):\n",
    "         self.items.append(item)\n",
    "    def pop(self):\n",
    "        return self.items.pop()\n",
    "    def peek(self):\n",
    "        return self.items[len(self.items)-1]\n",
    "    def size(self):\n",
    "        return len(self.items)\n",
    "s=Stack()\n",
    "s.push(\"satu\")\n",
    "s.push(\"true\")\n",
    "print(\"empty:\",s.isEmpty())\n",
    "print(\"peek:\",s.peek()) \n",
    "while not s.isEmpty():\n",
    "    print(\"pop:\",s.pop())"
   ]
  },
  {
   "cell_type": "markdown",
   "metadata": {},
   "source": [
    "QUEUE (Antrian)"
   ]
  },
  {
   "cell_type": "markdown",
   "metadata": {},
   "source": [
    "Antrian (queue) merupakan struktur data yang menerapkan konsep FIFO (First In First Out), berbanding terbalik dengan (stack) yang memiliki konsep data yang masuk paling belakang akan keluar terlebih dahulu. Data atau elemen yang pertama ditambahkan ke dalam queue akan diambil pertama kali juga seperti pada ilusrasi di atas.\n",
    "\n",
    "Pada kelas queue di atas, kita mengimplentasikan metode - metode berikut :\n",
    "\n",
    "1. isempty(), digunakan untuk memeriksa apakah queue kosong atau tidak.\n",
    "2. enqueue(), digunakan untuk menambah elemen baru ke dalam queue pada posisi terakhir.\n",
    "3. peek(), digunakan untuk mendapatkan elemen yang terdapat pada posisi terkahir tanpa\n",
    "  menghapus elemen tersebut.\n",
    "4. dequeue(), digunakan untuk mengambil elemen terakhir dan menghapusnya dari dalam\n",
    "  queue.\n",
    "5. size(), mengembalikan jumlah item di dalam list. Tidak memerlukan parameter dan\n",
    "   mengembalikan suatu integer.\n",
    "6. semua(), mengecek isi list Queue.\n",
    "\n",
    "Berikut implementasinya ke dalam bahasa pemrograman Python :\n"
   ]
  },
  {
   "cell_type": "code",
   "execution_count": 4,
   "metadata": {},
   "outputs": [
    {
     "name": "stdout",
     "output_type": "stream",
     "text": [
      "3\n",
      "1\n",
      "hello\n",
      "True\n"
     ]
    }
   ],
   "source": [
    "class Queue:\n",
    "    def __init__(self):\n",
    "        self.items = []\n",
    "\n",
    "    def isEmpty(self):\n",
    "        return self.items == []\n",
    "\n",
    "    def enqueue(self, item):\n",
    "        self.items.insert(0,item)\n",
    "\n",
    "    def dequeue(self):\n",
    "        return self.items.pop() \n",
    "\n",
    "    def size(self):\n",
    "        return len(self.items)\n",
    "\n",
    "q=Queue()\n",
    "q.enqueue(1)\n",
    "q.enqueue(\"hello\")\n",
    "q.enqueue(True)\n",
    "print(q.size())\n",
    "print(q.dequeue())\n",
    "print(q.dequeue())\n",
    "print(q.dequeue())"
   ]
  },
  {
   "cell_type": "markdown",
   "metadata": {},
   "source": [
    "DEQUEUE"
   ]
  },
  {
   "cell_type": "markdown",
   "metadata": {},
   "source": [
    "DeQueue, dikenal juga sebagai antrian berujung dua (double-ended), adalah suatu koleksi item terurut serupa dengan queue. Perbedaannya? Sifat tidak terikat untuk penambahan dan penghapusan item-item dari antrian. Item baru dapat ditambahkan ke depan atau belakang. Karena itu, item yang ada dapat dihapuskan dari salah satu ujung. Struktur linier hibrida ini menyediakan semua kapabilutas stack dan antrian dalam satu struktur data. \n",
    "\n",
    "Berikut ini adalah beberapa operasi yang dapat diberlakukan terhadap Deque :\n",
    "\n",
    "1. deque(), membuat suatu deque baru yang kosong. Tidak perlu parameter dan\n",
    "    mengembalikan suatu deque kosong.\n",
    "2. addFront(item), menambahkan suatu item baru ke depan dari deque. Perlu item dan tidak \n",
    "    mengembalikan apapun.\n",
    "3. addRear(item), menambahkan suatu item baru ke ekor dari deque. Perlu item dan tidak\n",
    "    mengembalikan sesuatu.\n",
    "4. removeFront(), menghapus item depan dari deque. Tidak perlu parameter dan \n",
    "    mengembalikan item. Deque termodifikasi.\n",
    "5. removeRear(), menghapus item ujung (ekor) dari deque. Tidak perlu parameter dan\n",
    "    mengembalikan item. Deque berubah.\n",
    "6. isEmpty(), menguji apakah deque dalam kondisi kosong. Tidak perlu parameter dan \n",
    "    mengembalikan suatu nilai boolean.\n",
    "7. size(), mengembalikan jumlah item dalam deque. Tidak perlu parameter dan \n",
    "    mengembalikan suatu integer.\n",
    "\n",
    "Untuk lebih jelasnya, langsung saja kita implementasikan ke dalam bahasa pemrograman Python seperti berikut :"
   ]
  },
  {
   "cell_type": "code",
   "execution_count": 5,
   "metadata": {},
   "outputs": [
    {
     "name": "stdout",
     "output_type": "stream",
     "text": [
      "3\n",
      "1\n",
      "hello\n",
      "True\n"
     ]
    }
   ],
   "source": [
    "class deQueue:\n",
    "    def __init__(self):\n",
    "        self.items = []\n",
    "\n",
    "    def isEmpty(self):\n",
    "        return self.items == []\n",
    "\n",
    "    def addrear(self, item):\n",
    "        self.items.insert(0,item)\n",
    "\n",
    "    def removefront(self):\n",
    "        return self.items.pop() \n",
    "    def addfront(self,item):\n",
    "        self.item.append()\n",
    "    def removerear(self):\n",
    "        return self.items.pop(0,item)\n",
    "    def size(self):\n",
    "        return len(self.items)\n",
    "\n",
    "q=deQueue()\n",
    "q.addrear(1)\n",
    "q.addrear(\"hello\")\n",
    "q.addrear(True)\n",
    "print(q.size())\n",
    "print(q.removefront())\n",
    "print(q.removefront())\n",
    "print(q.removefront())"
   ]
  },
  {
   "cell_type": "code",
   "execution_count": null,
   "metadata": {},
   "outputs": [],
   "source": []
  }
 ],
 "metadata": {
  "kernelspec": {
   "display_name": "Python 3",
   "language": "python",
   "name": "python3"
  },
  "language_info": {
   "codemirror_mode": {
    "name": "ipython",
    "version": 3
   },
   "file_extension": ".py",
   "mimetype": "text/x-python",
   "name": "python",
   "nbconvert_exporter": "python",
   "pygments_lexer": "ipython3",
   "version": "3.7.1"
  }
 },
 "nbformat": 4,
 "nbformat_minor": 2
}
